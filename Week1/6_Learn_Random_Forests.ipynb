{
  "nbformat": 4,
  "nbformat_minor": 0,
  "metadata": {
    "colab": {
      "name": "6 Learn : Random Forests.ipynb",
      "provenance": [],
      "authorship_tag": "ABX9TyNW2gxYNoMqvhn3QSd5gnhV",
      "include_colab_link": true
    },
    "kernelspec": {
      "name": "python3",
      "display_name": "Python 3"
    },
    "language_info": {
      "name": "python"
    }
  },
  "cells": [
    {
      "cell_type": "markdown",
      "metadata": {
        "id": "view-in-github",
        "colab_type": "text"
      },
      "source": [
        "<a href=\"https://colab.research.google.com/github/habibmahaasin/Machine-Learning-21-22/blob/main/Week1/6_Learn_Random_Forests.ipynb\" target=\"_parent\"><img src=\"https://colab.research.google.com/assets/colab-badge.svg\" alt=\"Open In Colab\"/></a>"
      ]
    },
    {
      "cell_type": "markdown",
      "source": [
        "Basic Data Exploration\n",
        "\n",
        "Source : https://www.kaggle.com/dansbecker/basic-data-exploration\n",
        "\n",
        "**Data Diri**\n",
        "\n",
        "\n",
        "1.   Nama  : Habib Irfan Mahaasin\n",
        "2.   NIM   : 1103194030\n",
        "3.   Kelas : TK-42-PIL\n",
        "4.   Prodi : S1 Teknik Komputer\n"
      ],
      "metadata": {
        "id": "jg-2-NwxbUE2"
      }
    },
    {
      "cell_type": "code",
      "source": [
        "#menghubungkan google colab dengan google drive\n",
        "from google.colab import drive\n",
        "drive.mount('/content/drive')"
      ],
      "metadata": {
        "colab": {
          "base_uri": "https://localhost:8080/"
        },
        "id": "x7ztRSBYbWD1",
        "outputId": "2c0fd7fa-25fc-4dfa-91b5-eba5dfc8ffef"
      },
      "execution_count": 1,
      "outputs": [
        {
          "output_type": "stream",
          "name": "stdout",
          "text": [
            "Mounted at /content/drive\n"
          ]
        }
      ]
    },
    {
      "cell_type": "code",
      "execution_count": 2,
      "metadata": {
        "id": "9H-YmEoybKGq"
      },
      "outputs": [],
      "source": [
        "import pandas as pd\n",
        "    \n",
        "# Load data\n",
        "melbourne_file_path = '/content/drive/MyDrive/Machine Learning Data/melb_data.csv'\n",
        "melbourne_data = pd.read_csv(melbourne_file_path) \n",
        "# Filter rows with missing values\n",
        "melbourne_data = melbourne_data.dropna(axis=0)\n",
        "# Choose target and features\n",
        "y = melbourne_data.Price\n",
        "melbourne_features = ['Rooms', 'Bathroom', 'Landsize', 'BuildingArea', \n",
        "                        'YearBuilt', 'Lattitude', 'Longtitude']\n",
        "X = melbourne_data[melbourne_features]\n",
        "\n",
        "from sklearn.model_selection import train_test_split\n",
        "\n",
        "# split data into training and validation data, for both features and target\n",
        "# The split is based on a random number generator. Supplying a numeric value to\n",
        "# the random_state argument guarantees we get the same split every time we\n",
        "# run this script.\n",
        "train_X, val_X, train_y, val_y = train_test_split(X, y,random_state = 0)"
      ]
    },
    {
      "cell_type": "code",
      "source": [
        "from sklearn.ensemble import RandomForestRegressor\n",
        "from sklearn.metrics import mean_absolute_error\n",
        "\n",
        "forest_model = RandomForestRegressor(random_state=1)\n",
        "forest_model.fit(train_X, train_y)\n",
        "melb_preds = forest_model.predict(val_X)\n",
        "print(mean_absolute_error(val_y, melb_preds))"
      ],
      "metadata": {
        "colab": {
          "base_uri": "https://localhost:8080/"
        },
        "id": "feiEVPUPbmSz",
        "outputId": "79f92991-0f1b-414e-e8f9-6e2594b02af7"
      },
      "execution_count": 3,
      "outputs": [
        {
          "output_type": "stream",
          "name": "stdout",
          "text": [
            "191669.7536453626\n"
          ]
        }
      ]
    }
  ]
}